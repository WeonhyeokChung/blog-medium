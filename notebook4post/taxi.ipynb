{
 "cells": [
  {
   "cell_type": "markdown",
   "id": "eb511fa8",
   "metadata": {},
   "source": [
    "# Chicago Taxi Rides Before and After Covid 19"
   ]
  },
  {
   "cell_type": "markdown",
   "id": "042ca509",
   "metadata": {},
   "source": [
    "I conduct analysis using the daily number of rides I created from raw data (that I stored in AWS S3, crawled using AWS Glue and ran SQL using AWS Athena)."
   ]
  },
  {
   "cell_type": "markdown",
   "id": "6c675a1e",
   "metadata": {},
   "source": [
    "### Import data"
   ]
  },
  {
   "cell_type": "code",
   "execution_count": 1,
   "id": "eddfa89d",
   "metadata": {},
   "outputs": [],
   "source": [
    "import pandas as pd\n",
    "import matplotlib.pyplot as plt"
   ]
  },
  {
   "cell_type": "markdown",
   "id": "0296c8ce",
   "metadata": {},
   "source": [
    "I import daily data for two years. "
   ]
  },
  {
   "cell_type": "code",
   "execution_count": 2,
   "id": "8c95dbfd",
   "metadata": {},
   "outputs": [],
   "source": [
    "dat2019= pd.read_csv(\"taximonthday2019.csv\")\n",
    "dat2020= pd.read_csv(\"taximonthday2020.csv\")\n",
    "\n",
    "dat2019['year'] = 2019\n",
    "dat2020['year'] = 2020\n",
    "\n",
    "dat2019['temp_date'] = dat2019['year'].astype(str)+ \"-\" + dat2019['month'].astype(str) + \"-\" + dat2019['day'].astype(str)\n",
    "dat2019['month_day'] = dat2019['month'].astype(str) + \"-\" + dat2019['day'].astype(str)\n",
    "\n",
    "dat2019['rideNum'] = dat2019['_col0']\n",
    "dat2020['rideNum'] = dat2020['_col0']"
   ]
  },
  {
   "cell_type": "markdown",
   "id": "c2a085cf",
   "metadata": {},
   "source": [
    "### Explore data "
   ]
  },
  {
   "cell_type": "markdown",
   "id": "8243567c",
   "metadata": {},
   "source": [
    "Now I explore the data"
   ]
  },
  {
   "cell_type": "code",
   "execution_count": 3,
   "id": "5a1739f6",
   "metadata": {},
   "outputs": [
    {
     "data": {
      "text/html": [
       "<div>\n",
       "<style scoped>\n",
       "    .dataframe tbody tr th:only-of-type {\n",
       "        vertical-align: middle;\n",
       "    }\n",
       "\n",
       "    .dataframe tbody tr th {\n",
       "        vertical-align: top;\n",
       "    }\n",
       "\n",
       "    .dataframe thead th {\n",
       "        text-align: right;\n",
       "    }\n",
       "</style>\n",
       "<table border=\"1\" class=\"dataframe\">\n",
       "  <thead>\n",
       "    <tr style=\"text-align: right;\">\n",
       "      <th></th>\n",
       "      <th>_col0</th>\n",
       "      <th>month</th>\n",
       "      <th>day</th>\n",
       "      <th>year</th>\n",
       "      <th>temp_date</th>\n",
       "      <th>month_day</th>\n",
       "      <th>rideNum</th>\n",
       "    </tr>\n",
       "  </thead>\n",
       "  <tbody>\n",
       "    <tr>\n",
       "      <th>0</th>\n",
       "      <td>297010</td>\n",
       "      <td>1</td>\n",
       "      <td>1</td>\n",
       "      <td>2019</td>\n",
       "      <td>2019-1-1</td>\n",
       "      <td>1-1</td>\n",
       "      <td>297010</td>\n",
       "    </tr>\n",
       "    <tr>\n",
       "      <th>1</th>\n",
       "      <td>213631</td>\n",
       "      <td>1</td>\n",
       "      <td>2</td>\n",
       "      <td>2019</td>\n",
       "      <td>2019-1-2</td>\n",
       "      <td>1-2</td>\n",
       "      <td>213631</td>\n",
       "    </tr>\n",
       "    <tr>\n",
       "      <th>2</th>\n",
       "      <td>226495</td>\n",
       "      <td>1</td>\n",
       "      <td>3</td>\n",
       "      <td>2019</td>\n",
       "      <td>2019-1-3</td>\n",
       "      <td>1-3</td>\n",
       "      <td>226495</td>\n",
       "    </tr>\n",
       "    <tr>\n",
       "      <th>3</th>\n",
       "      <td>277396</td>\n",
       "      <td>1</td>\n",
       "      <td>4</td>\n",
       "      <td>2019</td>\n",
       "      <td>2019-1-4</td>\n",
       "      <td>1-4</td>\n",
       "      <td>277396</td>\n",
       "    </tr>\n",
       "    <tr>\n",
       "      <th>4</th>\n",
       "      <td>296107</td>\n",
       "      <td>1</td>\n",
       "      <td>5</td>\n",
       "      <td>2019</td>\n",
       "      <td>2019-1-5</td>\n",
       "      <td>1-5</td>\n",
       "      <td>296107</td>\n",
       "    </tr>\n",
       "    <tr>\n",
       "      <th>...</th>\n",
       "      <td>...</td>\n",
       "      <td>...</td>\n",
       "      <td>...</td>\n",
       "      <td>...</td>\n",
       "      <td>...</td>\n",
       "      <td>...</td>\n",
       "      <td>...</td>\n",
       "    </tr>\n",
       "    <tr>\n",
       "      <th>360</th>\n",
       "      <td>261772</td>\n",
       "      <td>12</td>\n",
       "      <td>27</td>\n",
       "      <td>2019</td>\n",
       "      <td>2019-12-27</td>\n",
       "      <td>12-27</td>\n",
       "      <td>261772</td>\n",
       "    </tr>\n",
       "    <tr>\n",
       "      <th>361</th>\n",
       "      <td>292073</td>\n",
       "      <td>12</td>\n",
       "      <td>28</td>\n",
       "      <td>2019</td>\n",
       "      <td>2019-12-28</td>\n",
       "      <td>12-28</td>\n",
       "      <td>292073</td>\n",
       "    </tr>\n",
       "    <tr>\n",
       "      <th>362</th>\n",
       "      <td>246370</td>\n",
       "      <td>12</td>\n",
       "      <td>29</td>\n",
       "      <td>2019</td>\n",
       "      <td>2019-12-29</td>\n",
       "      <td>12-29</td>\n",
       "      <td>246370</td>\n",
       "    </tr>\n",
       "    <tr>\n",
       "      <th>363</th>\n",
       "      <td>255999</td>\n",
       "      <td>12</td>\n",
       "      <td>30</td>\n",
       "      <td>2019</td>\n",
       "      <td>2019-12-30</td>\n",
       "      <td>12-30</td>\n",
       "      <td>255999</td>\n",
       "    </tr>\n",
       "    <tr>\n",
       "      <th>364</th>\n",
       "      <td>374839</td>\n",
       "      <td>12</td>\n",
       "      <td>31</td>\n",
       "      <td>2019</td>\n",
       "      <td>2019-12-31</td>\n",
       "      <td>12-31</td>\n",
       "      <td>374839</td>\n",
       "    </tr>\n",
       "  </tbody>\n",
       "</table>\n",
       "<p>365 rows × 7 columns</p>\n",
       "</div>"
      ],
      "text/plain": [
       "      _col0  month  day  year   temp_date month_day  rideNum\n",
       "0    297010      1    1  2019    2019-1-1       1-1   297010\n",
       "1    213631      1    2  2019    2019-1-2       1-2   213631\n",
       "2    226495      1    3  2019    2019-1-3       1-3   226495\n",
       "3    277396      1    4  2019    2019-1-4       1-4   277396\n",
       "4    296107      1    5  2019    2019-1-5       1-5   296107\n",
       "..      ...    ...  ...   ...         ...       ...      ...\n",
       "360  261772     12   27  2019  2019-12-27     12-27   261772\n",
       "361  292073     12   28  2019  2019-12-28     12-28   292073\n",
       "362  246370     12   29  2019  2019-12-29     12-29   246370\n",
       "363  255999     12   30  2019  2019-12-30     12-30   255999\n",
       "364  374839     12   31  2019  2019-12-31     12-31   374839\n",
       "\n",
       "[365 rows x 7 columns]"
      ]
     },
     "execution_count": 3,
     "metadata": {},
     "output_type": "execute_result"
    }
   ],
   "source": [
    "dat2019"
   ]
  },
  {
   "cell_type": "code",
   "execution_count": 4,
   "id": "0af9c9cd",
   "metadata": {},
   "outputs": [
    {
     "data": {
      "text/plain": [
       "306440.39452054794"
      ]
     },
     "execution_count": 4,
     "metadata": {},
     "output_type": "execute_result"
    }
   ],
   "source": [
    "dat2019['rideNum'].mean()"
   ]
  },
  {
   "cell_type": "code",
   "execution_count": 5,
   "id": "40a9836f",
   "metadata": {},
   "outputs": [
    {
     "data": {
      "text/plain": [
       "136642.46721311475"
      ]
     },
     "execution_count": 5,
     "metadata": {},
     "output_type": "execute_result"
    }
   ],
   "source": [
    "dat2020['rideNum'].mean()"
   ]
  },
  {
   "cell_type": "markdown",
   "id": "44182ccb",
   "metadata": {},
   "source": [
    "### Average "
   ]
  },
  {
   "cell_type": "markdown",
   "id": "71326f37",
   "metadata": {},
   "source": [
    "I generate monthly average rides for each year. "
   ]
  },
  {
   "cell_type": "code",
   "execution_count": 6,
   "id": "bed6a9e6",
   "metadata": {},
   "outputs": [],
   "source": [
    "monthlyavg2019 = dat2019.groupby('month')['rideNum'].mean()\n",
    "monthlyavg2020 = dat2020.groupby('month')['rideNum'].mean()\n",
    "\n",
    "monthlyavg2019.columns = ['month','number']"
   ]
  },
  {
   "cell_type": "code",
   "execution_count": 7,
   "id": "713011ac",
   "metadata": {},
   "outputs": [
    {
     "data": {
      "text/plain": [
       "month\n",
       "1     283386.548387\n",
       "2     316046.964286\n",
       "3     331262.677419\n",
       "4     307060.366667\n",
       "5     313125.516129\n",
       "6     317293.100000\n",
       "7     294800.645161\n",
       "8     303456.096774\n",
       "9     297213.400000\n",
       "10    306468.354839\n",
       "11    310181.566667\n",
       "12    298112.290323\n",
       "Name: rideNum, dtype: float64"
      ]
     },
     "execution_count": 7,
     "metadata": {},
     "output_type": "execute_result"
    }
   ],
   "source": [
    "monthlyavg2019"
   ]
  },
  {
   "cell_type": "code",
   "execution_count": 8,
   "id": "b47c8c51",
   "metadata": {},
   "outputs": [
    {
     "data": {
      "text/plain": [
       "month\n",
       "1     284028.225806\n",
       "2     312540.896552\n",
       "3     171604.096774\n",
       "4      51448.000000\n",
       "5      61685.387097\n",
       "6      89095.133333\n",
       "7     110317.258065\n",
       "8     113065.709677\n",
       "9     121387.566667\n",
       "10    128908.258065\n",
       "11    100163.333333\n",
       "12    100863.193548\n",
       "Name: rideNum, dtype: float64"
      ]
     },
     "execution_count": 8,
     "metadata": {},
     "output_type": "execute_result"
    }
   ],
   "source": [
    "monthlyavg2020"
   ]
  },
  {
   "cell_type": "markdown",
   "id": "11fb5125",
   "metadata": {},
   "source": [
    "The unit of rides is one thousdands for label in the graph"
   ]
  },
  {
   "cell_type": "code",
   "execution_count": 9,
   "id": "007c8f00",
   "metadata": {},
   "outputs": [],
   "source": [
    "count2019 = monthlyavg2019/1000\n",
    "count2020 = monthlyavg2020/1000"
   ]
  },
  {
   "cell_type": "markdown",
   "id": "1b01cd2c",
   "metadata": {},
   "source": [
    "### Plotting"
   ]
  },
  {
   "cell_type": "markdown",
   "id": "757a497d",
   "metadata": {},
   "source": [
    "Now, I plot the monthly average rides for each year"
   ]
  },
  {
   "cell_type": "code",
   "execution_count": 10,
   "id": "df925d3a",
   "metadata": {},
   "outputs": [
    {
     "data": {
      "image/png": "[encoded data removed]",
      "text/plain": [
       "<Figure size 576x432 with 1 Axes>"
      ]
     },
     "metadata": {
      "needs_background": "light"
     },
     "output_type": "display_data"
    }
   ],
   "source": [
    "# Set figure\n",
    "\n",
    "plt.figure(figsize=(8,6))\n",
    "\n",
    "# Plot\n",
    "\n",
    "dates = ['Jan','Feb','Mar','Apr','May','Jun','Jul','Aug','Sep','Oct','Nov','Dec']\n",
    "plt.plot(dates,count2019,color='blue', marker='o')\n",
    "plt.plot(dates,count2020,color='red', marker='x')\n",
    "plt.legend(['Year 2019', 'Year 2020'], loc='center right')\n",
    "# Labels\n",
    "plt.xlabel(\"Month\")\n",
    "plt.ylabel(\"Number of Rides in Thousands\")\n",
    "\n",
    "# Setting Ticks\n",
    "plt.tick_params(axis='x',labelsize=10,rotation=45)\n",
    "\n",
    "# Display\n",
    "plt.show()"
   ]
  },
  {
   "cell_type": "markdown",
   "id": "1a5c145d",
   "metadata": {},
   "source": [
    "As you can see in the graph, I find clear decrease in the number of rides starting in March. The number of rides is the lowest in April but rebounds starting from May. "
   ]
  }
 ],
 "metadata": {
  "kernelspec": {
   "display_name": "Python 3 (ipykernel)",
   "language": "python",
   "name": "python3"
  },
  "language_info": {
   "codemirror_mode": {
    "name": "ipython",
    "version": 3
   },
   "file_extension": ".py",
   "mimetype": "text/x-python",
   "name": "python",
   "nbconvert_exporter": "python",
   "pygments_lexer": "ipython3",
   "version": "3.7.6"
  }
 },
 "nbformat": 4,
 "nbformat_minor": 5
}

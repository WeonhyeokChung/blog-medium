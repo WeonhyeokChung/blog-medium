{
 "cells": [
  {
   "cell_type": "markdown",
   "id": "eb511fa8",
   "metadata": {},
   "source": [
    "Taxi"
   ]
  },
  {
   "cell_type": "code",
   "execution_count": 154,
   "id": "eddfa89d",
   "metadata": {},
   "outputs": [],
   "source": [
    "import pandas as pd\n",
    "import matplotlib.pyplot as plt"
   ]
  },
  {
   "cell_type": "code",
   "execution_count": 155,
   "id": "8c95dbfd",
   "metadata": {},
   "outputs": [],
   "source": [
    "dat2019= pd.read_csv(\"taximonthday2019.csv\")\n",
    "dat2020= pd.read_csv(\"taximonthday2020.csv\")\n",
    "\n",
    "dat2019['year'] = 2019\n",
    "dat2020['year'] = 2020\n",
    "\n",
    "dat2019['temp_date'] = dat2019['year'].astype(str)+ \"-\" + dat2019['month'].astype(str) + \"-\" + dat2019['day'].astype(str)\n",
    "dat2019['month_day'] = dat2019['month'].astype(str) + \"-\" + dat2019['day'].astype(str)"
   ]
  },
  {
   "cell_type": "code",
   "execution_count": 156,
   "id": "4052f8b2",
   "metadata": {},
   "outputs": [
    {
     "data": {
      "text/html": [
       "<div>\n",
       "<style scoped>\n",
       "    .dataframe tbody tr th:only-of-type {\n",
       "        vertical-align: middle;\n",
       "    }\n",
       "\n",
       "    .dataframe tbody tr th {\n",
       "        vertical-align: top;\n",
       "    }\n",
       "\n",
       "    .dataframe thead th {\n",
       "        text-align: right;\n",
       "    }\n",
       "</style>\n",
       "<table border=\"1\" class=\"dataframe\">\n",
       "  <thead>\n",
       "    <tr style=\"text-align: right;\">\n",
       "      <th></th>\n",
       "      <th>_col0</th>\n",
       "      <th>month</th>\n",
       "      <th>day</th>\n",
       "      <th>year</th>\n",
       "      <th>temp_date</th>\n",
       "      <th>month_day</th>\n",
       "    </tr>\n",
       "  </thead>\n",
       "  <tbody>\n",
       "    <tr>\n",
       "      <th>0</th>\n",
       "      <td>297010</td>\n",
       "      <td>1</td>\n",
       "      <td>1</td>\n",
       "      <td>2019</td>\n",
       "      <td>2019-1-1</td>\n",
       "      <td>1-1</td>\n",
       "    </tr>\n",
       "    <tr>\n",
       "      <th>1</th>\n",
       "      <td>213631</td>\n",
       "      <td>1</td>\n",
       "      <td>2</td>\n",
       "      <td>2019</td>\n",
       "      <td>2019-1-2</td>\n",
       "      <td>1-2</td>\n",
       "    </tr>\n",
       "    <tr>\n",
       "      <th>2</th>\n",
       "      <td>226495</td>\n",
       "      <td>1</td>\n",
       "      <td>3</td>\n",
       "      <td>2019</td>\n",
       "      <td>2019-1-3</td>\n",
       "      <td>1-3</td>\n",
       "    </tr>\n",
       "    <tr>\n",
       "      <th>3</th>\n",
       "      <td>277396</td>\n",
       "      <td>1</td>\n",
       "      <td>4</td>\n",
       "      <td>2019</td>\n",
       "      <td>2019-1-4</td>\n",
       "      <td>1-4</td>\n",
       "    </tr>\n",
       "    <tr>\n",
       "      <th>4</th>\n",
       "      <td>296107</td>\n",
       "      <td>1</td>\n",
       "      <td>5</td>\n",
       "      <td>2019</td>\n",
       "      <td>2019-1-5</td>\n",
       "      <td>1-5</td>\n",
       "    </tr>\n",
       "    <tr>\n",
       "      <th>...</th>\n",
       "      <td>...</td>\n",
       "      <td>...</td>\n",
       "      <td>...</td>\n",
       "      <td>...</td>\n",
       "      <td>...</td>\n",
       "      <td>...</td>\n",
       "    </tr>\n",
       "    <tr>\n",
       "      <th>360</th>\n",
       "      <td>261772</td>\n",
       "      <td>12</td>\n",
       "      <td>27</td>\n",
       "      <td>2019</td>\n",
       "      <td>2019-12-27</td>\n",
       "      <td>12-27</td>\n",
       "    </tr>\n",
       "    <tr>\n",
       "      <th>361</th>\n",
       "      <td>292073</td>\n",
       "      <td>12</td>\n",
       "      <td>28</td>\n",
       "      <td>2019</td>\n",
       "      <td>2019-12-28</td>\n",
       "      <td>12-28</td>\n",
       "    </tr>\n",
       "    <tr>\n",
       "      <th>362</th>\n",
       "      <td>246370</td>\n",
       "      <td>12</td>\n",
       "      <td>29</td>\n",
       "      <td>2019</td>\n",
       "      <td>2019-12-29</td>\n",
       "      <td>12-29</td>\n",
       "    </tr>\n",
       "    <tr>\n",
       "      <th>363</th>\n",
       "      <td>255999</td>\n",
       "      <td>12</td>\n",
       "      <td>30</td>\n",
       "      <td>2019</td>\n",
       "      <td>2019-12-30</td>\n",
       "      <td>12-30</td>\n",
       "    </tr>\n",
       "    <tr>\n",
       "      <th>364</th>\n",
       "      <td>374839</td>\n",
       "      <td>12</td>\n",
       "      <td>31</td>\n",
       "      <td>2019</td>\n",
       "      <td>2019-12-31</td>\n",
       "      <td>12-31</td>\n",
       "    </tr>\n",
       "  </tbody>\n",
       "</table>\n",
       "<p>365 rows × 6 columns</p>\n",
       "</div>"
      ],
      "text/plain": [
       "      _col0  month  day  year   temp_date month_day\n",
       "0    297010      1    1  2019    2019-1-1       1-1\n",
       "1    213631      1    2  2019    2019-1-2       1-2\n",
       "2    226495      1    3  2019    2019-1-3       1-3\n",
       "3    277396      1    4  2019    2019-1-4       1-4\n",
       "4    296107      1    5  2019    2019-1-5       1-5\n",
       "..      ...    ...  ...   ...         ...       ...\n",
       "360  261772     12   27  2019  2019-12-27     12-27\n",
       "361  292073     12   28  2019  2019-12-28     12-28\n",
       "362  246370     12   29  2019  2019-12-29     12-29\n",
       "363  255999     12   30  2019  2019-12-30     12-30\n",
       "364  374839     12   31  2019  2019-12-31     12-31\n",
       "\n",
       "[365 rows x 6 columns]"
      ]
     },
     "execution_count": 156,
     "metadata": {},
     "output_type": "execute_result"
    }
   ],
   "source": [
    "dat2019"
   ]
  },
  {
   "cell_type": "code",
   "execution_count": 182,
   "id": "26f52719",
   "metadata": {},
   "outputs": [],
   "source": [
    "dat2019['date'] = pd.to_datetime(dat2019['temp_date'])"
   ]
  },
  {
   "cell_type": "code",
   "execution_count": 183,
   "id": "0be7876d",
   "metadata": {},
   "outputs": [
    {
     "data": {
      "text/html": [
       "<div>\n",
       "<style scoped>\n",
       "    .dataframe tbody tr th:only-of-type {\n",
       "        vertical-align: middle;\n",
       "    }\n",
       "\n",
       "    .dataframe tbody tr th {\n",
       "        vertical-align: top;\n",
       "    }\n",
       "\n",
       "    .dataframe thead th {\n",
       "        text-align: right;\n",
       "    }\n",
       "</style>\n",
       "<table border=\"1\" class=\"dataframe\">\n",
       "  <thead>\n",
       "    <tr style=\"text-align: right;\">\n",
       "      <th></th>\n",
       "      <th>_col0</th>\n",
       "      <th>month</th>\n",
       "      <th>day</th>\n",
       "      <th>year</th>\n",
       "      <th>temp_date</th>\n",
       "      <th>month_day</th>\n",
       "      <th>date</th>\n",
       "    </tr>\n",
       "  </thead>\n",
       "  <tbody>\n",
       "    <tr>\n",
       "      <th>0</th>\n",
       "      <td>297010</td>\n",
       "      <td>1</td>\n",
       "      <td>1</td>\n",
       "      <td>2019</td>\n",
       "      <td>2019-1-1</td>\n",
       "      <td>1-1</td>\n",
       "      <td>2019-01-01</td>\n",
       "    </tr>\n",
       "    <tr>\n",
       "      <th>1</th>\n",
       "      <td>213631</td>\n",
       "      <td>1</td>\n",
       "      <td>2</td>\n",
       "      <td>2019</td>\n",
       "      <td>2019-1-2</td>\n",
       "      <td>1-2</td>\n",
       "      <td>2019-01-02</td>\n",
       "    </tr>\n",
       "    <tr>\n",
       "      <th>2</th>\n",
       "      <td>226495</td>\n",
       "      <td>1</td>\n",
       "      <td>3</td>\n",
       "      <td>2019</td>\n",
       "      <td>2019-1-3</td>\n",
       "      <td>1-3</td>\n",
       "      <td>2019-01-03</td>\n",
       "    </tr>\n",
       "    <tr>\n",
       "      <th>3</th>\n",
       "      <td>277396</td>\n",
       "      <td>1</td>\n",
       "      <td>4</td>\n",
       "      <td>2019</td>\n",
       "      <td>2019-1-4</td>\n",
       "      <td>1-4</td>\n",
       "      <td>2019-01-04</td>\n",
       "    </tr>\n",
       "    <tr>\n",
       "      <th>4</th>\n",
       "      <td>296107</td>\n",
       "      <td>1</td>\n",
       "      <td>5</td>\n",
       "      <td>2019</td>\n",
       "      <td>2019-1-5</td>\n",
       "      <td>1-5</td>\n",
       "      <td>2019-01-05</td>\n",
       "    </tr>\n",
       "    <tr>\n",
       "      <th>...</th>\n",
       "      <td>...</td>\n",
       "      <td>...</td>\n",
       "      <td>...</td>\n",
       "      <td>...</td>\n",
       "      <td>...</td>\n",
       "      <td>...</td>\n",
       "      <td>...</td>\n",
       "    </tr>\n",
       "    <tr>\n",
       "      <th>360</th>\n",
       "      <td>261772</td>\n",
       "      <td>12</td>\n",
       "      <td>27</td>\n",
       "      <td>2019</td>\n",
       "      <td>2019-12-27</td>\n",
       "      <td>12-27</td>\n",
       "      <td>2019-12-27</td>\n",
       "    </tr>\n",
       "    <tr>\n",
       "      <th>361</th>\n",
       "      <td>292073</td>\n",
       "      <td>12</td>\n",
       "      <td>28</td>\n",
       "      <td>2019</td>\n",
       "      <td>2019-12-28</td>\n",
       "      <td>12-28</td>\n",
       "      <td>2019-12-28</td>\n",
       "    </tr>\n",
       "    <tr>\n",
       "      <th>362</th>\n",
       "      <td>246370</td>\n",
       "      <td>12</td>\n",
       "      <td>29</td>\n",
       "      <td>2019</td>\n",
       "      <td>2019-12-29</td>\n",
       "      <td>12-29</td>\n",
       "      <td>2019-12-29</td>\n",
       "    </tr>\n",
       "    <tr>\n",
       "      <th>363</th>\n",
       "      <td>255999</td>\n",
       "      <td>12</td>\n",
       "      <td>30</td>\n",
       "      <td>2019</td>\n",
       "      <td>2019-12-30</td>\n",
       "      <td>12-30</td>\n",
       "      <td>2019-12-30</td>\n",
       "    </tr>\n",
       "    <tr>\n",
       "      <th>364</th>\n",
       "      <td>374839</td>\n",
       "      <td>12</td>\n",
       "      <td>31</td>\n",
       "      <td>2019</td>\n",
       "      <td>2019-12-31</td>\n",
       "      <td>12-31</td>\n",
       "      <td>2019-12-31</td>\n",
       "    </tr>\n",
       "  </tbody>\n",
       "</table>\n",
       "<p>365 rows × 7 columns</p>\n",
       "</div>"
      ],
      "text/plain": [
       "      _col0  month  day  year   temp_date month_day       date\n",
       "0    297010      1    1  2019    2019-1-1       1-1 2019-01-01\n",
       "1    213631      1    2  2019    2019-1-2       1-2 2019-01-02\n",
       "2    226495      1    3  2019    2019-1-3       1-3 2019-01-03\n",
       "3    277396      1    4  2019    2019-1-4       1-4 2019-01-04\n",
       "4    296107      1    5  2019    2019-1-5       1-5 2019-01-05\n",
       "..      ...    ...  ...   ...         ...       ...        ...\n",
       "360  261772     12   27  2019  2019-12-27     12-27 2019-12-27\n",
       "361  292073     12   28  2019  2019-12-28     12-28 2019-12-28\n",
       "362  246370     12   29  2019  2019-12-29     12-29 2019-12-29\n",
       "363  255999     12   30  2019  2019-12-30     12-30 2019-12-30\n",
       "364  374839     12   31  2019  2019-12-31     12-31 2019-12-31\n",
       "\n",
       "[365 rows x 7 columns]"
      ]
     },
     "execution_count": 183,
     "metadata": {},
     "output_type": "execute_result"
    }
   ],
   "source": [
    "dat2019"
   ]
  },
  {
   "cell_type": "code",
   "execution_count": 184,
   "id": "0af9c9cd",
   "metadata": {},
   "outputs": [
    {
     "data": {
      "text/plain": [
       "306440.39452054794"
      ]
     },
     "execution_count": 184,
     "metadata": {},
     "output_type": "execute_result"
    }
   ],
   "source": [
    "dat2019['_col0'].mean()"
   ]
  },
  {
   "cell_type": "code",
   "execution_count": 185,
   "id": "40a9836f",
   "metadata": {},
   "outputs": [
    {
     "data": {
      "text/plain": [
       "136642.46721311475"
      ]
     },
     "execution_count": 185,
     "metadata": {},
     "output_type": "execute_result"
    }
   ],
   "source": [
    "dat2020['_col0'].mean()"
   ]
  },
  {
   "cell_type": "code",
   "execution_count": 192,
   "id": "bed6a9e6",
   "metadata": {},
   "outputs": [],
   "source": [
    "monthlyavg2019 = dat2019.groupby('month')['_col0'].mean()\n",
    "monthlyavg2020 = dat2020.groupby('month')['_col0'].mean()\n",
    "\n",
    "monthlyavg2019.columns = ['month','number']"
   ]
  },
  {
   "cell_type": "code",
   "execution_count": 205,
   "id": "713011ac",
   "metadata": {},
   "outputs": [
    {
     "data": {
      "text/plain": [
       "month\n",
       "1     283386.548387\n",
       "2     316046.964286\n",
       "3     331262.677419\n",
       "4     307060.366667\n",
       "5     313125.516129\n",
       "6     317293.100000\n",
       "7     294800.645161\n",
       "8     303456.096774\n",
       "9     297213.400000\n",
       "10    306468.354839\n",
       "11    310181.566667\n",
       "12    298112.290323\n",
       "Name: _col0, dtype: float64"
      ]
     },
     "execution_count": 205,
     "metadata": {},
     "output_type": "execute_result"
    }
   ],
   "source": [
    "monthlyavg2019"
   ]
  },
  {
   "cell_type": "code",
   "execution_count": 194,
   "id": "b47c8c51",
   "metadata": {},
   "outputs": [
    {
     "data": {
      "text/plain": [
       "month\n",
       "1     284028.225806\n",
       "2     312540.896552\n",
       "3     171604.096774\n",
       "4      51448.000000\n",
       "5      61685.387097\n",
       "6      89095.133333\n",
       "7     110317.258065\n",
       "8     113065.709677\n",
       "9     121387.566667\n",
       "10    128908.258065\n",
       "11    100163.333333\n",
       "12    100863.193548\n",
       "Name: _col0, dtype: float64"
      ]
     },
     "execution_count": 194,
     "metadata": {},
     "output_type": "execute_result"
    }
   ],
   "source": [
    "monthlyavg2020"
   ]
  },
  {
   "cell_type": "code",
   "execution_count": 212,
   "id": "007c8f00",
   "metadata": {},
   "outputs": [],
   "source": [
    "dates = [1,2,3,4,5,6,7,8,9,10,11,12]\n",
    "count2019 = monthlyavg2019/1000\n",
    "count2020 = monthlyavg2020/1000"
   ]
  },
  {
   "cell_type": "code",
   "execution_count": 214,
   "id": "df925d3a",
   "metadata": {},
   "outputs": [
    {
     "data": {
      "image/png": "[encoded data removed]",
      "text/plain": [
       "<Figure size 576x432 with 1 Axes>"
      ]
     },
     "metadata": {
      "needs_background": "light"
     },
     "output_type": "display_data"
    }
   ],
   "source": [
    "# Set figure\n",
    "\n",
    "plt.figure(figsize=(8,6))\n",
    "\n",
    "# Plot\n",
    "\n",
    "plt.plot(dates,count2019,color='blue', marker='o')\n",
    "plt.plot(dates,count2020,color='red', marker='x')\n",
    "\n",
    "# Labels\n",
    "\n",
    "plt.xlabel(\"Dates\")\n",
    "plt.ylabel(\"Number of Rides in Thousands\")\n",
    "\n",
    "# Setting Ticks\n",
    "\n",
    "plt.tick_params(axis='x',labelsize=10,rotation=90)\n",
    "\n",
    "# Display\n",
    "\n",
    "plt.show()"
   ]
  }
 ],
 "metadata": {
  "kernelspec": {
   "display_name": "Python 3 (ipykernel)",
   "language": "python",
   "name": "python3"
  },
  "language_info": {
   "codemirror_mode": {
    "name": "ipython",
    "version": 3
   },
   "file_extension": ".py",
   "mimetype": "text/x-python",
   "name": "python",
   "nbconvert_exporter": "python",
   "pygments_lexer": "ipython3",
   "version": "3.7.6"
  }
 },
 "nbformat": 4,
 "nbformat_minor": 5
}
